{
 "cells": [
  {
   "cell_type": "code",
   "execution_count": 46,
   "id": "f82d1662",
   "metadata": {},
   "outputs": [
    {
     "name": "stdout",
     "output_type": "stream",
     "text": [
      "WARNING:tensorflow:From c:\\Users\\DELL\\AppData\\Local\\Programs\\Python\\Python311\\Lib\\site-packages\\keras\\src\\losses.py:2976: The name tf.losses.sparse_softmax_cross_entropy is deprecated. Please use tf.compat.v1.losses.sparse_softmax_cross_entropy instead.\n",
      "\n"
     ]
    }
   ],
   "source": [
    "\n",
    "import numpy as np\n",
    "import pandas as pd\n",
    "import matplotlib.pyplot as plt\n",
    "from sklearn.model_selection import train_test_split\n",
    "from sklearn.metrics.pairwise import cosine_similarity\n",
    "from sklearn.metrics import precision_score, recall_score, f1_score, mean_squared_error\n",
    "import tensorflow as tf"
   ]
  },
  {
   "cell_type": "code",
   "execution_count": 3,
   "id": "999f82dc",
   "metadata": {},
   "outputs": [
    {
     "name": "stdout",
     "output_type": "stream",
     "text": [
      "<class 'pandas.core.frame.DataFrame'>\n",
      "RangeIndex: 10140 entries, 0 to 10139\n",
      "Data columns (total 3 columns):\n",
      " #   Column         Non-Null Count  Dtype \n",
      "---  ------         --------------  ----- \n",
      " 0   User_Id        10140 non-null  int64 \n",
      " 1   Place_Id       10140 non-null  int64 \n",
      " 2   Place_Ratings  10140 non-null  object\n",
      "dtypes: int64(2), object(1)\n",
      "memory usage: 237.8+ KB\n"
     ]
    }
   ],
   "source": [
    "tourism_rating=pd.read_excel('tourism_rating.xlsx') \n",
    "tourism_rating.info()"
   ]
  },
  {
   "cell_type": "code",
   "execution_count": 4,
   "id": "dfb1ce36",
   "metadata": {},
   "outputs": [
    {
     "name": "stdout",
     "output_type": "stream",
     "text": [
      "<class 'pandas.core.frame.DataFrame'>\n",
      "RangeIndex: 576 entries, 0 to 575\n",
      "Data columns (total 9 columns):\n",
      " #   Column       Non-Null Count  Dtype  \n",
      "---  ------       --------------  -----  \n",
      " 0   Place_Id     576 non-null    int64  \n",
      " 1   Place_Name   576 non-null    object \n",
      " 2   Description  576 non-null    object \n",
      " 3   City         576 non-null    object \n",
      " 4   Category     576 non-null    object \n",
      " 5   Price        576 non-null    int64  \n",
      " 6   Lat          576 non-null    float64\n",
      " 7   Long         576 non-null    float64\n",
      " 8   Rating       576 non-null    float64\n",
      "dtypes: float64(3), int64(2), object(4)\n",
      "memory usage: 40.6+ KB\n"
     ]
    }
   ],
   "source": [
    "tourism_data=pd.read_excel('Dataset_tourism.xlsx') \n",
    "tourism_data.info()"
   ]
  },
  {
   "cell_type": "code",
   "execution_count": 11,
   "id": "6a2e6bb5",
   "metadata": {},
   "outputs": [
    {
     "name": "stdout",
     "output_type": "stream",
     "text": [
      "<class 'pandas.core.frame.DataFrame'>\n",
      "RangeIndex: 1000 entries, 0 to 999\n",
      "Data columns (total 8 columns):\n",
      " #   Column             Non-Null Count  Dtype \n",
      "---  ------             --------------  ----- \n",
      " 0   id                 1000 non-null   int64 \n",
      " 1   username           1000 non-null   object\n",
      " 2   firstname          1000 non-null   object\n",
      " 3   lastname           1000 non-null   object\n",
      " 4   gender             1000 non-null   object\n",
      " 5   email              1000 non-null   object\n",
      " 6   city               1000 non-null   object\n",
      " 7   categorydestinasi  999 non-null    object\n",
      "dtypes: int64(1), object(7)\n",
      "memory usage: 62.6+ KB\n"
     ]
    }
   ],
   "source": [
    "tourism_user=pd.read_csv('User Tourism Dataset.csv', sep =';') \n",
    "tourism_user.info()"
   ]
  },
  {
   "cell_type": "code",
   "execution_count": 13,
   "id": "e82323f8",
   "metadata": {},
   "outputs": [
    {
     "name": "stdout",
     "output_type": "stream",
     "text": [
      "<class 'pandas.core.frame.DataFrame'>\n",
      "RangeIndex: 100 entries, 0 to 99\n",
      "Data columns (total 5 columns):\n",
      " #   Column     Non-Null Count  Dtype  \n",
      "---  ------     --------------  -----  \n",
      " 0   Category   100 non-null    object \n",
      " 1   Name       100 non-null    object \n",
      " 2   City       100 non-null    object \n",
      " 3   Rating     100 non-null    float64\n",
      " 4   Review     100 non-null    object \n",
      "dtypes: float64(1), object(4)\n",
      "memory usage: 4.0+ KB\n"
     ]
    }
   ],
   "source": [
    "tourism_reviewer=pd.read_excel('Reviewer.xlsx') \n",
    "tourism_reviewer.info()"
   ]
  },
  {
   "cell_type": "markdown",
   "id": "d1d91f46",
   "metadata": {},
   "source": [
    "# Preprocessing"
   ]
  },
  {
   "cell_type": "code",
   "execution_count": 41,
   "metadata": {},
   "outputs": [
    {
     "name": "stdout",
     "output_type": "stream",
     "text": [
      "<class 'pandas.core.frame.DataFrame'>\n",
      "RangeIndex: 10140 entries, 0 to 10139\n",
      "Data columns (total 3 columns):\n",
      " #   Column         Non-Null Count  Dtype  \n",
      "---  ------         --------------  -----  \n",
      " 0   User_Id        10140 non-null  int64  \n",
      " 1   Place_Id       10140 non-null  int64  \n",
      " 2   Place_Ratings  10009 non-null  float64\n",
      "dtypes: float64(1), int64(2)\n",
      "memory usage: 237.8 KB\n"
     ]
    }
   ],
   "source": [
    "#Change tourism_rating data type\n",
    "tourism_rating['Place_Ratings'] = pd.to_numeric(tourism_rating['Place_Ratings'], errors='coerce')\n",
    "tourism_rating.info()\n"
   ]
  },
  {
   "cell_type": "markdown",
   "metadata": {},
   "source": [
    "Check Missing Value"
   ]
  },
  {
   "cell_type": "code",
   "execution_count": 16,
   "id": "cc4016e6",
   "metadata": {},
   "outputs": [
    {
     "data": {
      "text/plain": [
       "User_Id          0\n",
       "Place_Id         0\n",
       "Place_Ratings    0\n",
       "dtype: int64"
      ]
     },
     "execution_count": 16,
     "metadata": {},
     "output_type": "execute_result"
    }
   ],
   "source": [
    "tourism_rating.isnull().sum()"
   ]
  },
  {
   "cell_type": "code",
   "execution_count": 17,
   "id": "76075deb",
   "metadata": {},
   "outputs": [
    {
     "data": {
      "text/plain": [
       "Place_Id       0\n",
       "Place_Name     0\n",
       "Description    0\n",
       "City           0\n",
       "Category       0\n",
       "Price          0\n",
       "Lat            0\n",
       "Long           0\n",
       "Rating         0\n",
       "dtype: int64"
      ]
     },
     "execution_count": 17,
     "metadata": {},
     "output_type": "execute_result"
    }
   ],
   "source": [
    "tourism_data.isnull().sum()"
   ]
  },
  {
   "cell_type": "code",
   "execution_count": 18,
   "id": "4bb8ef75",
   "metadata": {},
   "outputs": [
    {
     "data": {
      "text/plain": [
       "Category     0\n",
       "Name         0\n",
       "City         0\n",
       "Rating       0\n",
       "Review       0\n",
       "dtype: int64"
      ]
     },
     "execution_count": 18,
     "metadata": {},
     "output_type": "execute_result"
    }
   ],
   "source": [
    "tourism_reviewer.isnull().sum()"
   ]
  },
  {
   "cell_type": "markdown",
   "metadata": {},
   "source": [
    "Check Data Duplicate"
   ]
  },
  {
   "cell_type": "code",
   "execution_count": 19,
   "id": "40e64f15",
   "metadata": {},
   "outputs": [
    {
     "name": "stdout",
     "output_type": "stream",
     "text": [
      "Duplicate\n",
      "     Place_Id                Place_Name  \\\n",
      "61        488            Pantai Natsepa   \n",
      "268       585            Taman Suropati   \n",
      "469       545        Keraton Yogyakarta   \n",
      "473       569   Taman Pintar Yogyakarta   \n",
      "521       514  Bukit Bintang Yogyakarta   \n",
      "525       579           Museum Nasional   \n",
      "545       519           Candi Prambanan   \n",
      "546       534             Gunung Merapi   \n",
      "552       583             Dunia Fantasi   \n",
      "564       529          Gembira Loka Zoo   \n",
      "570       586      Grand Indonesia Mall   \n",
      "575       512           Ancol Dreamland   \n",
      "\n",
      "                                           Description        City  \\\n",
      "61   Bersantai di Pantai Natsepa, pantai dengan air...       Ambon   \n",
      "268  Bersantai di Taman Suropati yang hijau dan dam...     Jakarta   \n",
      "469  Kunjungi Keraton Yogyakarta, istana tradisiona...  Yogyakarta   \n",
      "473  Tempat edukasi dan hiburan, Taman Pintar Yogya...  Yogyakarta   \n",
      "521  Menyaksikan Yogyakarta dari ketinggian di Buki...  Yogyakarta   \n",
      "525  Menelusuri sejarah di Museum Nasional dengan k...     Jakarta   \n",
      "545  Terpesona oleh keindahan arsitektur Candi Pram...      Sleman   \n",
      "546  Petualangan mendaki Gunung Merapi dan nikmati ...      Sleman   \n",
      "552  Bermain dan bersenang-senang di Dunia Fantasi,...     Jakarta   \n",
      "564  Berpetualang di Gembira Loka Zoo dan temui ber...  Yogyakarta   \n",
      "570  Berbelanja dan bersantap di Grand Indonesia Ma...     Jakarta   \n",
      "575  Bermain dan bersenang-senang di Ancol Dreamlan...     Jakarta   \n",
      "\n",
      "               Category   Price     Lat      Long  Rating  \n",
      "61               Bahari   40000 -3.6595  128.1904     4.7  \n",
      "268       Taman Hiburan    8000 -6.2031  106.8392     4.5  \n",
      "469              Budaya   25000 -7.8058  110.3630     4.2  \n",
      "473       Taman Hiburan   20000 -7.7975  110.3678     4.2  \n",
      "521       Taman Hiburan   22000 -7.7916  110.3688     4.0  \n",
      "525              Budaya   18000 -6.1354  106.8167     4.0  \n",
      "545              Budaya   15000 -7.7519  110.4913     3.8  \n",
      "546       Taman Hiburan   30000 -7.5361  110.4454     3.8  \n",
      "552       Taman Hiburan   15000 -6.1249  106.8389     3.8  \n",
      "564       Taman Hiburan   15000 -7.7818  110.3809     3.7  \n",
      "570  Pusat Perbelanjaan  110000 -6.1955  106.8224     3.7  \n",
      "575       Taman Hiburan   18000 -6.1244  106.8360     3.8  \n"
     ]
    }
   ],
   "source": [
    "duplicate = tourism_data[tourism_data.duplicated(subset=['Place_Name','City'])]\n",
    "\n",
    "if duplicate.empty:\n",
    "    print(\"No duplicate\")\n",
    "else:\n",
    "    print(\"Duplicate\")\n",
    "    print(duplicate)"
   ]
  },
  {
   "cell_type": "code",
   "execution_count": 20,
   "id": "2b3dd600",
   "metadata": {},
   "outputs": [
    {
     "data": {
      "text/html": [
       "<div>\n",
       "<style scoped>\n",
       "    .dataframe tbody tr th:only-of-type {\n",
       "        vertical-align: middle;\n",
       "    }\n",
       "\n",
       "    .dataframe tbody tr th {\n",
       "        vertical-align: top;\n",
       "    }\n",
       "\n",
       "    .dataframe thead th {\n",
       "        text-align: right;\n",
       "    }\n",
       "</style>\n",
       "<table border=\"1\" class=\"dataframe\">\n",
       "  <thead>\n",
       "    <tr style=\"text-align: right;\">\n",
       "      <th></th>\n",
       "      <th>Place_Id</th>\n",
       "      <th>Place_Name</th>\n",
       "      <th>Description</th>\n",
       "      <th>City</th>\n",
       "      <th>Category</th>\n",
       "      <th>Price</th>\n",
       "      <th>Lat</th>\n",
       "      <th>Long</th>\n",
       "      <th>Rating</th>\n",
       "    </tr>\n",
       "  </thead>\n",
       "  <tbody>\n",
       "    <tr>\n",
       "      <th>0</th>\n",
       "      <td>29</td>\n",
       "      <td>Wisata Kuliner Pecenongan</td>\n",
       "      <td>Pecenongan merupakan salah satu surga kuliner ...</td>\n",
       "      <td>Jakarta</td>\n",
       "      <td>Pusat Perbelanjaan</td>\n",
       "      <td>0</td>\n",
       "      <td>-6.166789</td>\n",
       "      <td>106.826526</td>\n",
       "      <td>5.0</td>\n",
       "    </tr>\n",
       "    <tr>\n",
       "      <th>1</th>\n",
       "      <td>69</td>\n",
       "      <td>Freedom Library</td>\n",
       "      <td>Freedom Library adalah perpustakaan buku yang ...</td>\n",
       "      <td>Jakarta</td>\n",
       "      <td>Budaya</td>\n",
       "      <td>0</td>\n",
       "      <td>-6.202248</td>\n",
       "      <td>106.845197</td>\n",
       "      <td>5.0</td>\n",
       "    </tr>\n",
       "    <tr>\n",
       "      <th>2</th>\n",
       "      <td>95</td>\n",
       "      <td>Desa Wisata Sungai Code Jogja Kota</td>\n",
       "      <td>Kampung Code berada di Kelurahan Kotabaru, Kec...</td>\n",
       "      <td>Yogyakarta</td>\n",
       "      <td>Taman Hiburan</td>\n",
       "      <td>0</td>\n",
       "      <td>-7.822909</td>\n",
       "      <td>110.375689</td>\n",
       "      <td>5.0</td>\n",
       "    </tr>\n",
       "    <tr>\n",
       "      <th>3</th>\n",
       "      <td>124</td>\n",
       "      <td>Kauman Pakualaman Yogyakarta</td>\n",
       "      <td>Pakualaman adalah sebuah kecamatan di Kota Yog...</td>\n",
       "      <td>Yogyakarta</td>\n",
       "      <td>Budaya</td>\n",
       "      <td>0</td>\n",
       "      <td>-7.801035</td>\n",
       "      <td>110.375192</td>\n",
       "      <td>5.0</td>\n",
       "    </tr>\n",
       "    <tr>\n",
       "      <th>4</th>\n",
       "      <td>278</td>\n",
       "      <td>Masjid Daarut Tauhiid Bandung</td>\n",
       "      <td>pada bulan Juli 1993 berdirilah sebuah masjid ...</td>\n",
       "      <td>Bandung</td>\n",
       "      <td>Tempat Ibadah</td>\n",
       "      <td>0</td>\n",
       "      <td>-6.863527</td>\n",
       "      <td>107.589919</td>\n",
       "      <td>4.9</td>\n",
       "    </tr>\n",
       "    <tr>\n",
       "      <th>...</th>\n",
       "      <td>...</td>\n",
       "      <td>...</td>\n",
       "      <td>...</td>\n",
       "      <td>...</td>\n",
       "      <td>...</td>\n",
       "      <td>...</td>\n",
       "      <td>...</td>\n",
       "      <td>...</td>\n",
       "      <td>...</td>\n",
       "    </tr>\n",
       "    <tr>\n",
       "      <th>569</th>\n",
       "      <td>580</td>\n",
       "      <td>Kota Tua Jakarta</td>\n",
       "      <td>Jelajahi Kota Tua Jakarta, area bersejarah den...</td>\n",
       "      <td>Jakarta</td>\n",
       "      <td>Budaya</td>\n",
       "      <td>14000</td>\n",
       "      <td>-6.135000</td>\n",
       "      <td>106.813300</td>\n",
       "      <td>3.7</td>\n",
       "    </tr>\n",
       "    <tr>\n",
       "      <th>571</th>\n",
       "      <td>592</td>\n",
       "      <td>Summarecon Mall Serpong</td>\n",
       "      <td>Berbelanja dan bersantap di Summarecon Mall Se...</td>\n",
       "      <td>Tangerang</td>\n",
       "      <td>Pusat Perbelanjaan</td>\n",
       "      <td>13000</td>\n",
       "      <td>-6.242000</td>\n",
       "      <td>106.627300</td>\n",
       "      <td>3.7</td>\n",
       "    </tr>\n",
       "    <tr>\n",
       "      <th>572</th>\n",
       "      <td>515</td>\n",
       "      <td>Bukit Cinta</td>\n",
       "      <td>Menikmati pemandangan matahari terbenam yang r...</td>\n",
       "      <td>Magelang</td>\n",
       "      <td>Taman Hiburan</td>\n",
       "      <td>8000</td>\n",
       "      <td>-7.510600</td>\n",
       "      <td>110.227200</td>\n",
       "      <td>3.5</td>\n",
       "    </tr>\n",
       "    <tr>\n",
       "      <th>573</th>\n",
       "      <td>573</td>\n",
       "      <td>Tebing Keraton</td>\n",
       "      <td>Trekking menuju Tebing Keraton dengan pemandan...</td>\n",
       "      <td>Bandung</td>\n",
       "      <td>Taman Hiburan</td>\n",
       "      <td>12000</td>\n",
       "      <td>-6.752800</td>\n",
       "      <td>107.612700</td>\n",
       "      <td>3.5</td>\n",
       "    </tr>\n",
       "    <tr>\n",
       "      <th>574</th>\n",
       "      <td>363</td>\n",
       "      <td>Pantai Maron</td>\n",
       "      <td>Pantai Maron (bahasa Jawa: ꦥꦱꦶꦱꦶꦂ​ꦩꦫꦺꦴꦤ꧀, tran...</td>\n",
       "      <td>Semarang</td>\n",
       "      <td>Bahari</td>\n",
       "      <td>5000</td>\n",
       "      <td>-6.954569</td>\n",
       "      <td>110.360095</td>\n",
       "      <td>3.4</td>\n",
       "    </tr>\n",
       "  </tbody>\n",
       "</table>\n",
       "<p>564 rows × 9 columns</p>\n",
       "</div>"
      ],
      "text/plain": [
       "     Place_Id                          Place_Name  \\\n",
       "0          29           Wisata Kuliner Pecenongan   \n",
       "1          69                     Freedom Library   \n",
       "2          95  Desa Wisata Sungai Code Jogja Kota   \n",
       "3         124        Kauman Pakualaman Yogyakarta   \n",
       "4         278       Masjid Daarut Tauhiid Bandung   \n",
       "..        ...                                 ...   \n",
       "569       580                    Kota Tua Jakarta   \n",
       "571       592             Summarecon Mall Serpong   \n",
       "572       515                         Bukit Cinta   \n",
       "573       573                      Tebing Keraton   \n",
       "574       363                        Pantai Maron   \n",
       "\n",
       "                                           Description        City  \\\n",
       "0    Pecenongan merupakan salah satu surga kuliner ...     Jakarta   \n",
       "1    Freedom Library adalah perpustakaan buku yang ...     Jakarta   \n",
       "2    Kampung Code berada di Kelurahan Kotabaru, Kec...  Yogyakarta   \n",
       "3    Pakualaman adalah sebuah kecamatan di Kota Yog...  Yogyakarta   \n",
       "4    pada bulan Juli 1993 berdirilah sebuah masjid ...     Bandung   \n",
       "..                                                 ...         ...   \n",
       "569  Jelajahi Kota Tua Jakarta, area bersejarah den...     Jakarta   \n",
       "571  Berbelanja dan bersantap di Summarecon Mall Se...   Tangerang   \n",
       "572  Menikmati pemandangan matahari terbenam yang r...    Magelang   \n",
       "573  Trekking menuju Tebing Keraton dengan pemandan...     Bandung   \n",
       "574  Pantai Maron (bahasa Jawa: ꦥꦱꦶꦱꦶꦂ​ꦩꦫꦺꦴꦤ꧀, tran...    Semarang   \n",
       "\n",
       "               Category  Price       Lat        Long  Rating  \n",
       "0    Pusat Perbelanjaan      0 -6.166789  106.826526     5.0  \n",
       "1                Budaya      0 -6.202248  106.845197     5.0  \n",
       "2         Taman Hiburan      0 -7.822909  110.375689     5.0  \n",
       "3                Budaya      0 -7.801035  110.375192     5.0  \n",
       "4         Tempat Ibadah      0 -6.863527  107.589919     4.9  \n",
       "..                  ...    ...       ...         ...     ...  \n",
       "569              Budaya  14000 -6.135000  106.813300     3.7  \n",
       "571  Pusat Perbelanjaan  13000 -6.242000  106.627300     3.7  \n",
       "572       Taman Hiburan   8000 -7.510600  110.227200     3.5  \n",
       "573       Taman Hiburan  12000 -6.752800  107.612700     3.5  \n",
       "574              Bahari   5000 -6.954569  110.360095     3.4  \n",
       "\n",
       "[564 rows x 9 columns]"
      ]
     },
     "execution_count": 20,
     "metadata": {},
     "output_type": "execute_result"
    }
   ],
   "source": [
    "tourism_data = tourism_data.drop_duplicates(subset=['Place_Name','City'], keep='first')\n",
    "tourism_data"
   ]
  },
  {
   "cell_type": "markdown",
   "metadata": {},
   "source": [
    "Data Visualization"
   ]
  },
  {
   "cell_type": "code",
   "execution_count": 24,
   "metadata": {},
   "outputs": [
    {
     "data": {
      "image/png": "[encoded data removed]",
      "text/plain": [
       "<Figure size 800x400 with 1 Axes>"
      ]
     },
     "metadata": {},
     "output_type": "display_data"
    }
   ],
   "source": [
    "category_counts = tourism_data['Category'].value_counts()\n",
    "\n",
    "# Bar chart use matplotlib\n",
    "plt.figure(figsize=(8, 4))\n",
    "category_counts.plot(kind='bar', color='skyblue')\n",
    "plt.title('Count of Indonesia Tourism Destination by Category')\n",
    "plt.xlabel('Category')\n",
    "plt.ylabel('Count of Destination')\n",
    "plt.xticks(rotation=45, ha='right') \n",
    "plt.show()\n"
   ]
  },
  {
   "cell_type": "markdown",
   "metadata": {},
   "source": [
    "# Travel Buddy Recommendations"
   ]
  },
  {
   "cell_type": "code",
   "execution_count": 31,
   "metadata": {},
   "outputs": [],
   "source": [
    "# Select a user and specify city and category preferences\n",
    "user_id = 1  # Replace with the appropriate user\n",
    "city_preference = tourism_user[tourism_user['id'] == user_id]['city'].values[0]\n",
    "category_preference = tourism_user[tourism_user['id'] == user_id]['categorydestinasi'].values[0]\n",
    "\n",
    "# Filter travel buddies based on city preference\n",
    "travel_buddies_city = tourism_user[\n",
    "    (tourism_user['city'] == city_preference) &\n",
    "    (tourism_user['id'] != user_id)  # Avoid recommending oneself\n",
    "]\n",
    "\n",
    "# Filter travel buddies based on category preference\n",
    "travel_buddies_category = tourism_user[\n",
    "    (tourism_user['categorydestinasi'] == category_preference) &\n",
    "    (tourism_user['id'] != user_id)  # Avoid recommending oneself\n",
    "]\n",
    "\n",
    "# Filter travel buddies based on both city and category preferences\n",
    "travel_buddies = tourism_user[\n",
    "    (tourism_user['city'] == city_preference) &\n",
    "    (tourism_user['categorydestinasi'] == category_preference) &\n",
    "    (tourism_user['id'] != user_id)  # Avoid recommending oneself\n",
    "]\n"
   ]
  },
  {
   "cell_type": "code",
   "execution_count": 32,
   "metadata": {},
   "outputs": [
    {
     "name": "stdout",
     "output_type": "stream",
     "text": [
      "Travel Buddy Recommendations Based on Hometown:\n",
      "      id   username      city   categorydestinasi\n",
      "2      3     Ahmad3  Surabaya  Pusat Perbelanjaan\n",
      "4      5      Joko5  Surabaya       Tempat Ibadah\n",
      "8      9      Rudi9  Surabaya       Taman Hiburan\n",
      "10    11      Eko11  Surabaya             Budaya \n",
      "12    13    Fajar13  Surabaya       Taman Hiburan\n",
      "14    15  Bambang15  Surabaya  Pusat Perbelanjaan\n",
      "16    17     Joko17  Surabaya       Tempat Ibadah\n",
      "18    19     Andi19  Surabaya             Budaya \n",
      "48    49    Hiram49  Surabaya       Perbelanjaan \n",
      "49    50   Corrie50  Surabaya       Tempat Ibadah\n",
      "50    51    Anita51  Surabaya       Taman Hiburan\n",
      "51    52    Ricky52  Surabaya       Taman Hiburan\n",
      "52    53     Maya53  Surabaya          Cagar Alam\n",
      "540  541  Dorice541  Surabaya             Budaya \n",
      "541  542    Davy542  Surabaya       Perbelanjaan \n",
      "542  543  Lenard543  Surabaya       Tempat Ibadah\n",
      "543  544    Bret544  Surabaya       Taman Hiburan\n",
      "544  545  Dallis545  Surabaya       Taman Hiburan\n",
      "984  985    Eric985  Surabaya          Cagar Alam\n"
     ]
    }
   ],
   "source": [
    "# Recommendation Based on User's Hometown\n",
    "\n",
    "print(\"Travel Buddy Recommendations Based on Hometown:\")\n",
    "print(travel_buddies_city[['id', 'username', 'city', 'categorydestinasi']])\n"
   ]
  },
  {
   "cell_type": "code",
   "execution_count": 33,
   "metadata": {},
   "outputs": [
    {
     "name": "stdout",
     "output_type": "stream",
     "text": [
      "Travel Buddy Recommendations Based on Destination Category Preferences:\n",
      "       id       username           city categorydestinasi\n",
      "8       9          Rudi9       Surabaya     Taman Hiburan\n",
      "12     13        Fajar13       Surabaya     Taman Hiburan\n",
      "19     20         Dian20         Malang     Taman Hiburan\n",
      "23     24          Nur24  Bangka Barat      Taman Hiburan\n",
      "30     31          Edi31     Bantaeng       Taman Hiburan\n",
      "..    ...            ...            ...               ...\n",
      "979   980      Dallon980      Ternate       Taman Hiburan\n",
      "983   984    Aridatha984         Tual       Taman Hiburan\n",
      "990   991       Gibby991     Semarang       Taman Hiburan\n",
      "991   992         Lil992           Solo     Taman Hiburan\n",
      "999  1000  Corrianne1000       Malang       Taman Hiburan\n",
      "\n",
      "[213 rows x 4 columns]\n"
     ]
    }
   ],
   "source": [
    "# Recommendation Based on User's Category Destination Preferences\n",
    "\n",
    "print(\"Travel Buddy Recommendations Based on Destination Category Preferences:\")\n",
    "print(travel_buddies_category[['id', 'username', 'city', 'categorydestinasi']])\n"
   ]
  },
  {
   "cell_type": "code",
   "execution_count": 34,
   "metadata": {},
   "outputs": [
    {
     "name": "stdout",
     "output_type": "stream",
     "text": [
      "Travel Buddy Recommendations:\n",
      "      id   username      city categorydestinasi\n",
      "8      9      Rudi9  Surabaya     Taman Hiburan\n",
      "12    13    Fajar13  Surabaya     Taman Hiburan\n",
      "50    51    Anita51  Surabaya     Taman Hiburan\n",
      "51    52    Ricky52  Surabaya     Taman Hiburan\n",
      "543  544    Bret544  Surabaya     Taman Hiburan\n",
      "544  545  Dallis545  Surabaya     Taman Hiburan\n"
     ]
    }
   ],
   "source": [
    "# Recommendation Based on User's Hometown and User's Category Destination Preferences\n",
    "\n",
    "print(\"Travel Buddy Recommendations:\")\n",
    "print(travel_buddies[['id', 'username', 'city', 'categorydestinasi']])"
   ]
  },
  {
   "cell_type": "code",
   "execution_count": 39,
   "metadata": {},
   "outputs": [
    {
     "name": "stdout",
     "output_type": "stream",
     "text": [
      "<class 'pandas.core.frame.DataFrame'>\n",
      "RangeIndex: 10140 entries, 0 to 10139\n",
      "Data columns (total 3 columns):\n",
      " #   Column         Non-Null Count  Dtype \n",
      "---  ------         --------------  ----- \n",
      " 0   User_Id        10140 non-null  int64 \n",
      " 1   Place_Id       10140 non-null  int64 \n",
      " 2   Place_Ratings  10140 non-null  object\n",
      "dtypes: int64(2), object(1)\n",
      "memory usage: 237.8+ KB\n"
     ]
    }
   ],
   "source": [
    "tourism_rating.info()"
   ]
  },
  {
   "cell_type": "code",
   "execution_count": 50,
   "metadata": {},
   "outputs": [
    {
     "name": "stdout",
     "output_type": "stream",
     "text": [
      "Recommended Travel Buddies:\n",
      "      id    username\n",
      "61    62      Sari62\n",
      "94    95    Artair95\n",
      "102  103     Neil103\n",
      "198  199   Agatha199\n",
      "202  203  Fabiano203\n"
     ]
    }
   ],
   "source": [
    "# Recommendations based on user's travel preferences similarity\n",
    "\n",
    "# User-item matrix for tourism destinations\n",
    "user_item_matrix = pd.pivot_table(tourism_rating, values='Place_Ratings', index='User_Id', columns='Place_Id', fill_value=0)\n",
    "\n",
    "# User ID for whom travel buddies will be recommended\n",
    "user_id = 1  # Replace with the desired user ID\n",
    "\n",
    "# Extract destinations visited by the selected user\n",
    "visited_destinations = user_item_matrix.loc[user_id][user_item_matrix.loc[user_id] > 0].index\n",
    "\n",
    "# Extract ratings matrix only for the visited destinations\n",
    "user_item_matrix_subset = user_item_matrix[visited_destinations]\n",
    "\n",
    "# Subsetting user_item_matrix to include only common items\n",
    "user_item_matrix_selected = user_item_matrix[visited_destinations]\n",
    "\n",
    "# Calculate cosine similarity between the selected user and other users\n",
    "similarity_scores = cosine_similarity(user_item_matrix_selected.loc[[user_id]], user_item_matrix_subset)\n",
    "\n",
    "# Get users with the highest similarity scores\n",
    "similar_users = list(similarity_scores[0].argsort()[-2:-7:-1])\n",
    "\n",
    "# Display recommended travel buddies\n",
    "recommended_buddies = tourism_user[tourism_user['id'].isin(similar_users)]\n",
    "print(\"Recommended Travel Buddies:\")\n",
    "print(recommended_buddies[['id', 'username']])\n"
   ]
  }
 ],
 "metadata": {
  "kernelspec": {
   "display_name": "Python 3 (ipykernel)",
   "language": "python",
   "name": "python3"
  },
  "language_info": {
   "codemirror_mode": {
    "name": "ipython",
    "version": 3
   },
   "file_extension": ".py",
   "mimetype": "text/x-python",
   "name": "python",
   "nbconvert_exporter": "python",
   "pygments_lexer": "ipython3",
   "version": "3.11.5"
  }
 },
 "nbformat": 4,
 "nbformat_minor": 5
}
