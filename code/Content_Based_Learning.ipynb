{
  "cells": [
    {
      "cell_type": "markdown",
      "metadata": {
        "id": "8hFf286I77Q6"
      },
      "source": [
        "# Content Based Learning"
      ]
    },
    {
      "cell_type": "code",
      "execution_count": 1,
      "metadata": {
        "id": "zAfOStIWoR_e"
      },
      "outputs": [],
      "source": [
        "#importing necessary libraries\n",
        "import numpy as np\n",
        "import pandas as pd\n",
        "from sklearn.metrics.pairwise import cosine_similarity\n",
        "from sklearn.metrics import mean_squared_error\n",
        "from sklearn.model_selection import train_test_split\n",
        "from sklearn.feature_extraction.text import TfidfVectorizer\n",
        "from sklearn.metrics.pairwise import linear_kernel\n",
        "from geopy.distance import great_circle"
      ]
    },
    {
      "cell_type": "code",
      "execution_count": 5,
      "metadata": {
        "colab": {
          "base_uri": "https://localhost:8080/"
        },
        "id": "hlFCXqxh7_R7",
        "outputId": "6daa81f2-1520-4b43-8d5e-3142faa19732"
      },
      "outputs": [
        {
          "name": "stdout",
          "output_type": "stream",
          "text": [
            "   Place_Id                          Place_Name  \\\n",
            "0        29           Wisata Kuliner Pecenongan   \n",
            "1        69                     Freedom Library   \n",
            "2        95  Desa Wisata Sungai Code Jogja Kota   \n",
            "3       124        Kauman Pakualaman Yogyakarta   \n",
            "4       278       Masjid Daarut Tauhiid Bandung   \n",
            "\n",
            "                                         Description        City  \\\n",
            "0  Pecenongan merupakan salah satu surga kuliner ...     Jakarta   \n",
            "1  Freedom Library adalah perpustakaan buku yang ...     Jakarta   \n",
            "2  Kampung Code berada di Kelurahan Kotabaru, Kec...  Yogyakarta   \n",
            "3  Pakualaman adalah sebuah kecamatan di Kota Yog...  Yogyakarta   \n",
            "4  pada bulan Juli 1993 berdirilah sebuah masjid ...     Bandung   \n",
            "\n",
            "             Category  Price       Lat        Long  Rating  \n",
            "0  Pusat Perbelanjaan      0 -6.166789  106.826526     5.0  \n",
            "1              Budaya      0 -6.202248  106.845197     5.0  \n",
            "2       Taman Hiburan      0 -7.822909  110.375689     5.0  \n",
            "3              Budaya      0 -7.801035  110.375192     5.0  \n",
            "4       Tempat Ibadah      0 -6.863527  107.589919     4.9  \n"
          ]
        }
      ],
      "source": [
        "# loading data\n",
        "import pandas as pd\n",
        "df = pd.read_excel('dataset_tourism.xlsx')\n",
        "# show data\n",
        "print(df.head())\n"
      ]
    },
    {
      "cell_type": "code",
      "execution_count": 6,
      "metadata": {
        "colab": {
          "base_uri": "https://localhost:8080/"
        },
        "id": "kCDe9_1ZneOO",
        "outputId": "ea533b10-733f-4c86-e398-4acb819d563c"
      },
      "outputs": [
        {
          "name": "stdout",
          "output_type": "stream",
          "text": [
            "<class 'pandas.core.frame.DataFrame'>\n",
            "RangeIndex: 576 entries, 0 to 575\n",
            "Data columns (total 9 columns):\n",
            " #   Column       Non-Null Count  Dtype  \n",
            "---  ------       --------------  -----  \n",
            " 0   Place_Id     576 non-null    int64  \n",
            " 1   Place_Name   576 non-null    object \n",
            " 2   Description  576 non-null    object \n",
            " 3   City         576 non-null    object \n",
            " 4   Category     576 non-null    object \n",
            " 5   Price        576 non-null    int64  \n",
            " 6   Lat          576 non-null    float64\n",
            " 7   Long         576 non-null    float64\n",
            " 8   Rating       576 non-null    float64\n",
            "dtypes: float64(3), int64(2), object(4)\n",
            "memory usage: 40.6+ KB\n"
          ]
        }
      ],
      "source": [
        "# struktur data\n",
        "df.info()"
      ]
    },
    {
      "cell_type": "code",
      "execution_count": 7,
      "metadata": {
        "colab": {
          "base_uri": "https://localhost:8080/",
          "height": 300
        },
        "id": "Jvb13obW1q5o",
        "outputId": "ad1c5c94-16f3-4265-abd8-6a2b9636a28f"
      },
      "outputs": [
        {
          "data": {
            "text/html": [
              "<div>\n",
              "<style scoped>\n",
              "    .dataframe tbody tr th:only-of-type {\n",
              "        vertical-align: middle;\n",
              "    }\n",
              "\n",
              "    .dataframe tbody tr th {\n",
              "        vertical-align: top;\n",
              "    }\n",
              "\n",
              "    .dataframe thead th {\n",
              "        text-align: right;\n",
              "    }\n",
              "</style>\n",
              "<table border=\"1\" class=\"dataframe\">\n",
              "  <thead>\n",
              "    <tr style=\"text-align: right;\">\n",
              "      <th></th>\n",
              "      <th>Place_Id</th>\n",
              "      <th>Price</th>\n",
              "      <th>Lat</th>\n",
              "      <th>Long</th>\n",
              "      <th>Rating</th>\n",
              "    </tr>\n",
              "  </thead>\n",
              "  <tbody>\n",
              "    <tr>\n",
              "      <th>count</th>\n",
              "      <td>576.000000</td>\n",
              "      <td>576.000000</td>\n",
              "      <td>576.000000</td>\n",
              "      <td>576.000000</td>\n",
              "      <td>576.000000</td>\n",
              "    </tr>\n",
              "    <tr>\n",
              "      <th>mean</th>\n",
              "      <td>289.531250</td>\n",
              "      <td>25434.027778</td>\n",
              "      <td>-6.896178</td>\n",
              "      <td>111.221720</td>\n",
              "      <td>4.375521</td>\n",
              "    </tr>\n",
              "    <tr>\n",
              "      <th>std</th>\n",
              "      <td>168.117037</td>\n",
              "      <td>58426.214978</td>\n",
              "      <td>1.393292</td>\n",
              "      <td>6.622427</td>\n",
              "      <td>0.273416</td>\n",
              "    </tr>\n",
              "    <tr>\n",
              "      <th>min</th>\n",
              "      <td>1.000000</td>\n",
              "      <td>0.000000</td>\n",
              "      <td>-10.726300</td>\n",
              "      <td>103.931398</td>\n",
              "      <td>3.400000</td>\n",
              "    </tr>\n",
              "    <tr>\n",
              "      <th>25%</th>\n",
              "      <td>144.750000</td>\n",
              "      <td>2000.000000</td>\n",
              "      <td>-7.784302</td>\n",
              "      <td>107.592150</td>\n",
              "      <td>4.200000</td>\n",
              "    </tr>\n",
              "    <tr>\n",
              "      <th>50%</th>\n",
              "      <td>288.500000</td>\n",
              "      <td>10000.000000</td>\n",
              "      <td>-7.003838</td>\n",
              "      <td>110.362640</td>\n",
              "      <td>4.400000</td>\n",
              "    </tr>\n",
              "    <tr>\n",
              "      <th>75%</th>\n",
              "      <td>432.250000</td>\n",
              "      <td>25000.000000</td>\n",
              "      <td>-6.610755</td>\n",
              "      <td>110.557625</td>\n",
              "      <td>4.600000</td>\n",
              "    </tr>\n",
              "    <tr>\n",
              "      <th>max</th>\n",
              "      <td>592.000000</td>\n",
              "      <td>900000.000000</td>\n",
              "      <td>1.078880</td>\n",
              "      <td>140.718700</td>\n",
              "      <td>5.000000</td>\n",
              "    </tr>\n",
              "  </tbody>\n",
              "</table>\n",
              "</div>"
            ],
            "text/plain": [
              "         Place_Id          Price         Lat        Long      Rating\n",
              "count  576.000000     576.000000  576.000000  576.000000  576.000000\n",
              "mean   289.531250   25434.027778   -6.896178  111.221720    4.375521\n",
              "std    168.117037   58426.214978    1.393292    6.622427    0.273416\n",
              "min      1.000000       0.000000  -10.726300  103.931398    3.400000\n",
              "25%    144.750000    2000.000000   -7.784302  107.592150    4.200000\n",
              "50%    288.500000   10000.000000   -7.003838  110.362640    4.400000\n",
              "75%    432.250000   25000.000000   -6.610755  110.557625    4.600000\n",
              "max    592.000000  900000.000000    1.078880  140.718700    5.000000"
            ]
          },
          "execution_count": 7,
          "metadata": {},
          "output_type": "execute_result"
        }
      ],
      "source": [
        "# statdes\n",
        "df.describe()"
      ]
    },
    {
      "cell_type": "code",
      "execution_count": 9,
      "metadata": {
        "colab": {
          "base_uri": "https://localhost:8080/"
        },
        "id": "mLo7981u8CjW",
        "outputId": "797c550a-f392-459f-9dd0-92a24b436d30"
      },
      "outputs": [
        {
          "name": "stdout",
          "output_type": "stream",
          "text": [
            "Column Missing Value:\n",
            "Series([], dtype: int64)\n"
          ]
        }
      ],
      "source": [
        "# check missing value\n",
        "missing_values = df.isnull().sum()\n",
        "\n",
        "# menampilkan kolom-kolom dengan nilai yang hilang (jika ada)\n",
        "print(\"Column Missing Value:\")\n",
        "print(missing_values[missing_values > 0])\n"
      ]
    },
    {
      "cell_type": "code",
      "execution_count": 10,
      "metadata": {
        "colab": {
          "base_uri": "https://localhost:8080/"
        },
        "id": "TCEZQspv8P8g",
        "outputId": "d78bd928-8cf8-4f1d-ccaf-e38a9dd26ae8"
      },
      "outputs": [
        {
          "data": {
            "text/plain": [
              "Place_Id       0\n",
              "Place_Name     0\n",
              "Description    0\n",
              "City           0\n",
              "Category       0\n",
              "Price          0\n",
              "Lat            0\n",
              "Long           0\n",
              "Rating         0\n",
              "dtype: int64"
            ]
          },
          "execution_count": 10,
          "metadata": {},
          "output_type": "execute_result"
        }
      ],
      "source": [
        "df.isnull().sum()"
      ]
    },
    {
      "cell_type": "code",
      "execution_count": 41,
      "metadata": {},
      "outputs": [
        {
          "name": "stdout",
          "output_type": "stream",
          "text": [
            "Duplicate\n",
            "     Place_Id                Place_Name  \\\n",
            "61        488            Pantai Natsepa   \n",
            "268       585            Taman Suropati   \n",
            "469       545        Keraton Yogyakarta   \n",
            "473       569   Taman Pintar Yogyakarta   \n",
            "521       514  Bukit Bintang Yogyakarta   \n",
            "525       579           Museum Nasional   \n",
            "545       519           Candi Prambanan   \n",
            "546       534             Gunung Merapi   \n",
            "552       583             Dunia Fantasi   \n",
            "564       529          Gembira Loka Zoo   \n",
            "570       586      Grand Indonesia Mall   \n",
            "575       512           Ancol Dreamland   \n",
            "\n",
            "                                           Description        City  \\\n",
            "61   Bersantai di Pantai Natsepa, pantai dengan air...       Ambon   \n",
            "268  Bersantai di Taman Suropati yang hijau dan dam...     Jakarta   \n",
            "469  Kunjungi Keraton Yogyakarta, istana tradisiona...  Yogyakarta   \n",
            "473  Tempat edukasi dan hiburan, Taman Pintar Yogya...  Yogyakarta   \n",
            "521  Menyaksikan Yogyakarta dari ketinggian di Buki...  Yogyakarta   \n",
            "525  Menelusuri sejarah di Museum Nasional dengan k...     Jakarta   \n",
            "545  Terpesona oleh keindahan arsitektur Candi Pram...      Sleman   \n",
            "546  Petualangan mendaki Gunung Merapi dan nikmati ...      Sleman   \n",
            "552  Bermain dan bersenang-senang di Dunia Fantasi,...     Jakarta   \n",
            "564  Berpetualang di Gembira Loka Zoo dan temui ber...  Yogyakarta   \n",
            "570  Berbelanja dan bersantap di Grand Indonesia Ma...     Jakarta   \n",
            "575  Bermain dan bersenang-senang di Ancol Dreamlan...     Jakarta   \n",
            "\n",
            "               Category   Price     Lat      Long  Rating  \n",
            "61               Bahari   40000 -3.6595  128.1904     4.7  \n",
            "268       Taman Hiburan    8000 -6.2031  106.8392     4.5  \n",
            "469              Budaya   25000 -7.8058  110.3630     4.2  \n",
            "473       Taman Hiburan   20000 -7.7975  110.3678     4.2  \n",
            "521       Taman Hiburan   22000 -7.7916  110.3688     4.0  \n",
            "525              Budaya   18000 -6.1354  106.8167     4.0  \n",
            "545              Budaya   15000 -7.7519  110.4913     3.8  \n",
            "546       Taman Hiburan   30000 -7.5361  110.4454     3.8  \n",
            "552       Taman Hiburan   15000 -6.1249  106.8389     3.8  \n",
            "564       Taman Hiburan   15000 -7.7818  110.3809     3.7  \n",
            "570  Pusat Perbelanjaan  110000 -6.1955  106.8224     3.7  \n",
            "575       Taman Hiburan   18000 -6.1244  106.8360     3.8  \n"
          ]
        }
      ],
      "source": [
        "#Check Data Duplicate\n",
        "duplicate = df[df.duplicated(subset=['Place_Name','City'])]\n",
        "\n",
        "if duplicate.empty:\n",
        "    print(\"No duplicate\")\n",
        "else:\n",
        "    print(\"Duplicate\")\n",
        "    print(duplicate)"
      ]
    },
    {
      "cell_type": "code",
      "execution_count": 42,
      "metadata": {},
      "outputs": [
        {
          "data": {
            "text/html": [
              "<div>\n",
              "<style scoped>\n",
              "    .dataframe tbody tr th:only-of-type {\n",
              "        vertical-align: middle;\n",
              "    }\n",
              "\n",
              "    .dataframe tbody tr th {\n",
              "        vertical-align: top;\n",
              "    }\n",
              "\n",
              "    .dataframe thead th {\n",
              "        text-align: right;\n",
              "    }\n",
              "</style>\n",
              "<table border=\"1\" class=\"dataframe\">\n",
              "  <thead>\n",
              "    <tr style=\"text-align: right;\">\n",
              "      <th></th>\n",
              "      <th>Place_Id</th>\n",
              "      <th>Place_Name</th>\n",
              "      <th>Description</th>\n",
              "      <th>City</th>\n",
              "      <th>Category</th>\n",
              "      <th>Price</th>\n",
              "      <th>Lat</th>\n",
              "      <th>Long</th>\n",
              "      <th>Rating</th>\n",
              "    </tr>\n",
              "  </thead>\n",
              "  <tbody>\n",
              "    <tr>\n",
              "      <th>0</th>\n",
              "      <td>29</td>\n",
              "      <td>Wisata Kuliner Pecenongan</td>\n",
              "      <td>Pecenongan merupakan salah satu surga kuliner ...</td>\n",
              "      <td>Jakarta</td>\n",
              "      <td>Pusat Perbelanjaan</td>\n",
              "      <td>0</td>\n",
              "      <td>-6.166789</td>\n",
              "      <td>106.826526</td>\n",
              "      <td>5.0</td>\n",
              "    </tr>\n",
              "    <tr>\n",
              "      <th>1</th>\n",
              "      <td>69</td>\n",
              "      <td>Freedom Library</td>\n",
              "      <td>Freedom Library adalah perpustakaan buku yang ...</td>\n",
              "      <td>Jakarta</td>\n",
              "      <td>Budaya</td>\n",
              "      <td>0</td>\n",
              "      <td>-6.202248</td>\n",
              "      <td>106.845197</td>\n",
              "      <td>5.0</td>\n",
              "    </tr>\n",
              "    <tr>\n",
              "      <th>2</th>\n",
              "      <td>95</td>\n",
              "      <td>Desa Wisata Sungai Code Jogja Kota</td>\n",
              "      <td>Kampung Code berada di Kelurahan Kotabaru, Kec...</td>\n",
              "      <td>Yogyakarta</td>\n",
              "      <td>Taman Hiburan</td>\n",
              "      <td>0</td>\n",
              "      <td>-7.822909</td>\n",
              "      <td>110.375689</td>\n",
              "      <td>5.0</td>\n",
              "    </tr>\n",
              "    <tr>\n",
              "      <th>3</th>\n",
              "      <td>124</td>\n",
              "      <td>Kauman Pakualaman Yogyakarta</td>\n",
              "      <td>Pakualaman adalah sebuah kecamatan di Kota Yog...</td>\n",
              "      <td>Yogyakarta</td>\n",
              "      <td>Budaya</td>\n",
              "      <td>0</td>\n",
              "      <td>-7.801035</td>\n",
              "      <td>110.375192</td>\n",
              "      <td>5.0</td>\n",
              "    </tr>\n",
              "    <tr>\n",
              "      <th>4</th>\n",
              "      <td>278</td>\n",
              "      <td>Masjid Daarut Tauhiid Bandung</td>\n",
              "      <td>pada bulan Juli 1993 berdirilah sebuah masjid ...</td>\n",
              "      <td>Bandung</td>\n",
              "      <td>Tempat Ibadah</td>\n",
              "      <td>0</td>\n",
              "      <td>-6.863527</td>\n",
              "      <td>107.589919</td>\n",
              "      <td>4.9</td>\n",
              "    </tr>\n",
              "    <tr>\n",
              "      <th>...</th>\n",
              "      <td>...</td>\n",
              "      <td>...</td>\n",
              "      <td>...</td>\n",
              "      <td>...</td>\n",
              "      <td>...</td>\n",
              "      <td>...</td>\n",
              "      <td>...</td>\n",
              "      <td>...</td>\n",
              "      <td>...</td>\n",
              "    </tr>\n",
              "    <tr>\n",
              "      <th>569</th>\n",
              "      <td>580</td>\n",
              "      <td>Kota Tua Jakarta</td>\n",
              "      <td>Jelajahi Kota Tua Jakarta, area bersejarah den...</td>\n",
              "      <td>Jakarta</td>\n",
              "      <td>Budaya</td>\n",
              "      <td>14000</td>\n",
              "      <td>-6.135000</td>\n",
              "      <td>106.813300</td>\n",
              "      <td>3.7</td>\n",
              "    </tr>\n",
              "    <tr>\n",
              "      <th>571</th>\n",
              "      <td>592</td>\n",
              "      <td>Summarecon Mall Serpong</td>\n",
              "      <td>Berbelanja dan bersantap di Summarecon Mall Se...</td>\n",
              "      <td>Tangerang</td>\n",
              "      <td>Pusat Perbelanjaan</td>\n",
              "      <td>13000</td>\n",
              "      <td>-6.242000</td>\n",
              "      <td>106.627300</td>\n",
              "      <td>3.7</td>\n",
              "    </tr>\n",
              "    <tr>\n",
              "      <th>572</th>\n",
              "      <td>515</td>\n",
              "      <td>Bukit Cinta</td>\n",
              "      <td>Menikmati pemandangan matahari terbenam yang r...</td>\n",
              "      <td>Magelang</td>\n",
              "      <td>Taman Hiburan</td>\n",
              "      <td>8000</td>\n",
              "      <td>-7.510600</td>\n",
              "      <td>110.227200</td>\n",
              "      <td>3.5</td>\n",
              "    </tr>\n",
              "    <tr>\n",
              "      <th>573</th>\n",
              "      <td>573</td>\n",
              "      <td>Tebing Keraton</td>\n",
              "      <td>Trekking menuju Tebing Keraton dengan pemandan...</td>\n",
              "      <td>Bandung</td>\n",
              "      <td>Taman Hiburan</td>\n",
              "      <td>12000</td>\n",
              "      <td>-6.752800</td>\n",
              "      <td>107.612700</td>\n",
              "      <td>3.5</td>\n",
              "    </tr>\n",
              "    <tr>\n",
              "      <th>574</th>\n",
              "      <td>363</td>\n",
              "      <td>Pantai Maron</td>\n",
              "      <td>Pantai Maron (bahasa Jawa: ꦥꦱꦶꦱꦶꦂ​ꦩꦫꦺꦴꦤ꧀, tran...</td>\n",
              "      <td>Semarang</td>\n",
              "      <td>Bahari</td>\n",
              "      <td>5000</td>\n",
              "      <td>-6.954569</td>\n",
              "      <td>110.360095</td>\n",
              "      <td>3.4</td>\n",
              "    </tr>\n",
              "  </tbody>\n",
              "</table>\n",
              "<p>564 rows × 9 columns</p>\n",
              "</div>"
            ],
            "text/plain": [
              "     Place_Id                          Place_Name  \\\n",
              "0          29           Wisata Kuliner Pecenongan   \n",
              "1          69                     Freedom Library   \n",
              "2          95  Desa Wisata Sungai Code Jogja Kota   \n",
              "3         124        Kauman Pakualaman Yogyakarta   \n",
              "4         278       Masjid Daarut Tauhiid Bandung   \n",
              "..        ...                                 ...   \n",
              "569       580                    Kota Tua Jakarta   \n",
              "571       592             Summarecon Mall Serpong   \n",
              "572       515                         Bukit Cinta   \n",
              "573       573                      Tebing Keraton   \n",
              "574       363                        Pantai Maron   \n",
              "\n",
              "                                           Description        City  \\\n",
              "0    Pecenongan merupakan salah satu surga kuliner ...     Jakarta   \n",
              "1    Freedom Library adalah perpustakaan buku yang ...     Jakarta   \n",
              "2    Kampung Code berada di Kelurahan Kotabaru, Kec...  Yogyakarta   \n",
              "3    Pakualaman adalah sebuah kecamatan di Kota Yog...  Yogyakarta   \n",
              "4    pada bulan Juli 1993 berdirilah sebuah masjid ...     Bandung   \n",
              "..                                                 ...         ...   \n",
              "569  Jelajahi Kota Tua Jakarta, area bersejarah den...     Jakarta   \n",
              "571  Berbelanja dan bersantap di Summarecon Mall Se...   Tangerang   \n",
              "572  Menikmati pemandangan matahari terbenam yang r...    Magelang   \n",
              "573  Trekking menuju Tebing Keraton dengan pemandan...     Bandung   \n",
              "574  Pantai Maron (bahasa Jawa: ꦥꦱꦶꦱꦶꦂ​ꦩꦫꦺꦴꦤ꧀, tran...    Semarang   \n",
              "\n",
              "               Category  Price       Lat        Long  Rating  \n",
              "0    Pusat Perbelanjaan      0 -6.166789  106.826526     5.0  \n",
              "1                Budaya      0 -6.202248  106.845197     5.0  \n",
              "2         Taman Hiburan      0 -7.822909  110.375689     5.0  \n",
              "3                Budaya      0 -7.801035  110.375192     5.0  \n",
              "4         Tempat Ibadah      0 -6.863527  107.589919     4.9  \n",
              "..                  ...    ...       ...         ...     ...  \n",
              "569              Budaya  14000 -6.135000  106.813300     3.7  \n",
              "571  Pusat Perbelanjaan  13000 -6.242000  106.627300     3.7  \n",
              "572       Taman Hiburan   8000 -7.510600  110.227200     3.5  \n",
              "573       Taman Hiburan  12000 -6.752800  107.612700     3.5  \n",
              "574              Bahari   5000 -6.954569  110.360095     3.4  \n",
              "\n",
              "[564 rows x 9 columns]"
            ]
          },
          "execution_count": 42,
          "metadata": {},
          "output_type": "execute_result"
        }
      ],
      "source": [
        "df = df.drop_duplicates(subset=['Place_Name','City'], keep='first')\n",
        "df"
      ]
    },
    {
      "cell_type": "markdown",
      "metadata": {
        "id": "aQR61cEu2NbP"
      },
      "source": [
        "Flow:\n",
        "1. **Dataset Understanding:**\n",
        "   - Analyze the columns in the dataset, such as `Place_Id`, `Place_Name`, `Description`, `City`, `Category`, `Price`, `Lat`, `Long`, and `Rating`.\n",
        "   -Ensure the data is clean, and perform preprocessing such as changing data types, handling null values, or performing normalization.\n",
        "\n",
        "\n",
        "2. **Feature Selection:**\n",
        "   - Selecting the features to be used in the model. In this case, `Description`, `City`, `Category`, `Price`, and `Rating` will most likely be the relevant features for content-based recommendation.\n",
        "\n",
        "\n",
        "3. **Text Preprocessing:**\n",
        "   - Preprocessing the text fields, such as cleaning the text from special characters, converting letters to lowercase, and tokenizing.\n",
        "   - Using tools such as TF-IDF or Word Embeddings to convert text into numerical representations.\n",
        "\n",
        "\n",
        "4. **Location Feature Conversion (Lat, Long):**\n",
        "   - Since we want to incorporate location information into the model, it is necessary to convert `Lat` and `Long` into more informative location features, such as distance from city center or location cluster.\n",
        "\n",
        "\n",
        "5. **Feature Normalization:**\n",
        "   - Normalize the values of numeric features, such as `Price` and `Rating`, to ensure that all features have a similar scale.\n",
        "\n",
        "\n",
        "6. **Creation of Similarity Matrix:**\n",
        "   - Calculate the similarity matrix between tourist attractions based on the features that have been selected. In this case, a method such as cosine similarity can be used.\n",
        "\n",
        "\n",
        "7. **Selection of Recommended Places:**\n",
        "   - Determine the tourist attractions that you want to recommend. This can be user input or can be selected based on some specific criteria.\n",
        "\n",
        "\n",
        "8. **Ranking and Recommendation:**\n",
        "   - Rank the tourist attractions based on the similarity value with the previously selected places, and recommend the places with the highest similarity value.\n",
        "\n",
        "\n",
        "9. **Model Evaluation:**\n",
        "   - Evaluate the model by dividing the dataset into training and test data. Some evaluation metrics that can be used include precision, recall, or Mean Squared Error (MSE).\n",
        "\n",
        "\n",
        "10. **System Implementation:**\n",
        "   - Implement the recommendation model into a full system that includes 360 view, photo, video, location, and travel companion features."
      ]
    },
    {
      "cell_type": "code",
      "execution_count": 43,
      "metadata": {
        "colab": {
          "base_uri": "https://localhost:8080/"
        },
        "id": "ijanFBPg2xhd",
        "outputId": "bb7646f7-4e7a-476f-b37d-ed9b36130900"
      },
      "outputs": [
        {
          "name": "stdout",
          "output_type": "stream",
          "text": [
            "                                         Description        City  \\\n",
            "0  Pecenongan merupakan salah satu surga kuliner ...     Jakarta   \n",
            "1  Freedom Library adalah perpustakaan buku yang ...     Jakarta   \n",
            "2  Kampung Code berada di Kelurahan Kotabaru, Kec...  Yogyakarta   \n",
            "3  Pakualaman adalah sebuah kecamatan di Kota Yog...  Yogyakarta   \n",
            "4  pada bulan Juli 1993 berdirilah sebuah masjid ...     Bandung   \n",
            "\n",
            "             Category  Price  Rating  \n",
            "0  Pusat Perbelanjaan      0     5.0  \n",
            "1              Budaya      0     5.0  \n",
            "2       Taman Hiburan      0     5.0  \n",
            "3              Budaya      0     5.0  \n",
            "4       Tempat Ibadah      0     4.9  \n"
          ]
        }
      ],
      "source": [
        "# Fitur Selection\n",
        "selected_features = ['Description', 'City', 'Category', 'Price', 'Rating']\n",
        "df_selected = df[selected_features]\n",
        "print(df_selected.head())\n"
      ]
    },
    {
      "cell_type": "code",
      "execution_count": 44,
      "metadata": {
        "colab": {
          "base_uri": "https://localhost:8080/"
        },
        "id": "T9lYrIcd3VWf",
        "outputId": "2733e0a2-e5c4-47a3-b82c-107b51f22842"
      },
      "outputs": [
        {
          "name": "stdout",
          "output_type": "stream",
          "text": [
            "Example of TF-IDF Vectorization results:\n",
            "  (0, 3168)\t0.09485353660125692\n",
            "  (0, 2839)\t0.09748967971058581\n",
            "  (0, 372)\t0.06387496246313734\n",
            "  (0, 4484)\t0.12062827423805564\n",
            "  (0, 5694)\t0.0802547088580505\n",
            "  (0, 2716)\t0.05630595074126456\n",
            "  (0, 3126)\t0.13992687478422125\n",
            "  (0, 4779)\t0.12532804704101486\n",
            "  (0, 4828)\t0.08848700074522949\n",
            "  (0, 5847)\t0.07388817300202308\n",
            "  (0, 4330)\t0.07736502598069676\n",
            "  (0, 2544)\t0.07299179702713221\n",
            "  (0, 2267)\t0.09748967971058581\n",
            "  (0, 5940)\t0.07255752068510443\n",
            "  (0, 1368)\t0.09251094049303762\n",
            "  (0, 6175)\t0.10218945251354501\n",
            "  (0, 3417)\t0.11354161160626605\n",
            "  (0, 3706)\t0.22145843859561687\n",
            "  (0, 2740)\t0.13992687478422125\n",
            "  (0, 2643)\t0.09251094049303762\n",
            "  (0, 3619)\t0.07530859808449956\n",
            "  (0, 4486)\t0.11354161160626605\n",
            "  (0, 2530)\t0.08848700074522949\n",
            "  (0, 788)\t0.09613039155460203\n",
            "  (0, 2228)\t0.07130596502175376\n",
            "  :\t:\n",
            "  (1, 6048)\t0.12751393931820798\n",
            "  (1, 5627)\t0.12253528239166155\n",
            "  (1, 1381)\t0.061915097126999684\n",
            "  (1, 5108)\t0.16483022674261924\n",
            "  (1, 1766)\t0.16483022674261924\n",
            "  (1, 3022)\t0.09381878081032306\n",
            "  (1, 5212)\t0.1375735629434042\n",
            "  (1, 5057)\t0.1375735629434042\n",
            "  (1, 3641)\t0.0640902922307717\n",
            "  (1, 6408)\t0.09381878081032306\n",
            "  (1, 1512)\t0.09527861859244649\n",
            "  (1, 1163)\t0.49959974405463325\n",
            "  (1, 4837)\t0.13043614639458162\n",
            "  (1, 329)\t0.04615574301022136\n",
            "  (1, 3297)\t0.15477060311742302\n",
            "  (1, 2014)\t0.16483022674261924\n",
            "  (1, 372)\t0.0752430479292207\n",
            "  (1, 1368)\t0.10897548681162887\n",
            "  (1, 6175)\t0.12037652276938539\n",
            "  (1, 3619)\t0.08871157393516375\n",
            "  (1, 2618)\t0.15477060311742302\n",
            "  (1, 1426)\t0.11559022489292699\n",
            "  (1, 2410)\t0.036762437322230244\n",
            "  (1, 6586)\t0.14197114910584038\n",
            "  (1, 1455)\t0.027108957998109362\n"
          ]
        }
      ],
      "source": [
        "# Text Processing\n",
        "from sklearn.feature_extraction.text import TfidfVectorizer\n",
        "from sklearn.metrics.pairwise import linear_kernel\n",
        "\n",
        "# Text preprocessing\n",
        "df_selected.loc[:, 'Description'] = df_selected['Description'].str.lower()  # Using .loc to modify values\n",
        "\n",
        "# TF-IDF Vectorization\n",
        "tfidf_vectorizer = TfidfVectorizer(stop_words='english')\n",
        "tfidf_matrix = tfidf_vectorizer.fit_transform(df_selected['Description'])\n",
        "\n",
        "# Displaying some examples of TF-IDF Vectorization results\n",
        "print(\"Example of TF-IDF Vectorization results:\")\n",
        "print(tfidf_matrix[:2])  # Displaying the first two rows as examples\n"
      ]
    },
    {
      "cell_type": "markdown",
      "metadata": {
        "id": "u8mJWeU23n6C"
      },
      "source": [
        "Interpretation:\n",
        "The displayed TF-IDF Vectorization result is a numerical representation of two documents or tourist attractions in the dataset. Each row represents one document, and each column represents a particular word or token in the entire dataset. The value in each cell represents the TF-IDF weight of that word in that document.\n",
        "\n",
        "The example shows that certain words have a high TF-IDF weight in the first document, while other words have a lower weight. The same applies to the second document. This process helps to quantify the importance of a word in a document relative to the entire dataset, thus enabling similarity comparison between documents based on this vector representation. At a later stage, this TF-IDF matrix can be used to measure the similarity between tourist attractions, which is useful for building content-based recommendation models."
      ]
    },
    {
      "cell_type": "code",
      "execution_count": 45,
      "metadata": {
        "id": "2DOMuxCi5hBX"
      },
      "outputs": [],
      "source": [
        "# Feature selection\n",
        "selected_features = ['Description', 'City', 'Category', 'Price', 'Rating', 'Lat', 'Long']\n",
        "df_selected = df[selected_features]\n"
      ]
    },
    {
      "cell_type": "code",
      "execution_count": 46,
      "metadata": {
        "colab": {
          "base_uri": "https://localhost:8080/"
        },
        "id": "Mv8XGcHZ5l21",
        "outputId": "a9cc1ecb-09cc-497e-8c6f-68c07ad42a55"
      },
      "outputs": [
        {
          "name": "stderr",
          "output_type": "stream",
          "text": [
            "C:\\Users\\DELL\\AppData\\Local\\Temp\\ipykernel_10116\\1705724195.py:2: SettingWithCopyWarning: \n",
            "A value is trying to be set on a copy of a slice from a DataFrame.\n",
            "Try using .loc[row_indexer,col_indexer] = value instead\n",
            "\n",
            "See the caveats in the documentation: https://pandas.pydata.org/pandas-docs/stable/user_guide/indexing.html#returning-a-view-versus-a-copy\n",
            "  df_selected['Lat'] = df_selected['Lat'].replace(',', '.', regex=True).astype(float)\n",
            "C:\\Users\\DELL\\AppData\\Local\\Temp\\ipykernel_10116\\1705724195.py:5: SettingWithCopyWarning: \n",
            "A value is trying to be set on a copy of a slice from a DataFrame.\n",
            "Try using .loc[row_indexer,col_indexer] = value instead\n",
            "\n",
            "See the caveats in the documentation: https://pandas.pydata.org/pandas-docs/stable/user_guide/indexing.html#returning-a-view-versus-a-copy\n",
            "  df_selected['Long'] = df_selected['Long'].replace(',', '.', regex=True).astype(float)\n"
          ]
        }
      ],
      "source": [
        "# Cleaning and Numeric Value Conversion for 'Lat'\n",
        "df_selected['Lat'] = df_selected['Lat'].replace(',', '.', regex=True).astype(float)\n",
        "\n",
        "# Cleaning and Numeric Value Conversion for 'Long'\n",
        "df_selected['Long'] = df_selected['Long'].replace(',', '.', regex=True).astype(float)\n"
      ]
    },
    {
      "cell_type": "code",
      "execution_count": 47,
      "metadata": {
        "colab": {
          "base_uri": "https://localhost:8080/"
        },
        "id": "aHINmg5L5t9F",
        "outputId": "27877125-92e4-4471-cf0e-6f5341a5ad42"
      },
      "outputs": [
        {
          "name": "stderr",
          "output_type": "stream",
          "text": [
            "C:\\Users\\DELL\\AppData\\Local\\Temp\\ipykernel_10116\\1978108491.py:2: SettingWithCopyWarning: \n",
            "A value is trying to be set on a copy of a slice from a DataFrame.\n",
            "Try using .loc[row_indexer,col_indexer] = value instead\n",
            "\n",
            "See the caveats in the documentation: https://pandas.pydata.org/pandas-docs/stable/user_guide/indexing.html#returning-a-view-versus-a-copy\n",
            "  df_selected['Description'] = df_selected['Description'].str.lower()\n"
          ]
        }
      ],
      "source": [
        "\n",
        "# Text preprocessing\n",
        "df_selected['Description'] = df_selected['Description'].str.lower()\n",
        "\n",
        "# TF-IDF Vectorization\n",
        "tfidf_vectorizer = TfidfVectorizer(stop_words='english')\n",
        "tfidf_matrix = tfidf_vectorizer.fit_transform(df_selected['Description'])"
      ]
    },
    {
      "cell_type": "code",
      "execution_count": 48,
      "metadata": {
        "colab": {
          "base_uri": "https://localhost:8080/"
        },
        "id": "rND51AqL3quq",
        "outputId": "fdabc04b-7046-475d-9528-3da2814705a3"
      },
      "outputs": [
        {
          "name": "stdout",
          "output_type": "stream",
          "text": [
            "                                         Description        City  \\\n",
            "0  pecenongan merupakan salah satu surga kuliner ...     Jakarta   \n",
            "1  freedom library adalah perpustakaan buku yang ...     Jakarta   \n",
            "2  kampung code berada di kelurahan kotabaru, kec...  Yogyakarta   \n",
            "3  pakualaman adalah sebuah kecamatan di kota yog...  Yogyakarta   \n",
            "4  pada bulan juli 1993 berdirilah sebuah masjid ...     Bandung   \n",
            "\n",
            "             Category  Price  Rating       Lat        Long  \\\n",
            "0  Pusat Perbelanjaan      0     5.0 -6.166789  106.826526   \n",
            "1              Budaya      0     5.0 -6.202248  106.845197   \n",
            "2       Taman Hiburan      0     5.0 -7.822909  110.375689   \n",
            "3              Budaya      0     5.0 -7.801035  110.375192   \n",
            "4       Tempat Ibadah      0     4.9 -6.863527  107.589919   \n",
            "\n",
            "   Distance_from_city_center  \n",
            "0                1333.532460  \n",
            "1                1331.390451  \n",
            "2                 954.969529  \n",
            "3                 954.613897  \n",
            "4                1249.879414  \n"
          ]
        },
        {
          "name": "stderr",
          "output_type": "stream",
          "text": [
            "C:\\Users\\DELL\\AppData\\Local\\Temp\\ipykernel_10116\\496577508.py:15: SettingWithCopyWarning: \n",
            "A value is trying to be set on a copy of a slice from a DataFrame.\n",
            "Try using .loc[row_indexer,col_indexer] = value instead\n",
            "\n",
            "See the caveats in the documentation: https://pandas.pydata.org/pandas-docs/stable/user_guide/indexing.html#returning-a-view-versus-a-copy\n",
            "  df_selected['Distance_from_city_center'] = df_selected.apply(calculate_distance, axis=1)\n"
          ]
        }
      ],
      "source": [
        "# Features Conversion\n",
        "# Using groupby and agg to calculate the average 'Lat' and 'Long' per city\n",
        "city_center = df_selected.groupby('City').agg({'Lat': 'mean', 'Long': 'mean'}).mean().values\n",
        "latitude_city_center, longitude_city_center = city_center\n",
        "\n",
        "# City center coordinates (replace with actual coordinates)\n",
        "city_center = (latitude_city_center, longitude_city_center)\n",
        "\n",
        "# Function to calculate distance from the city center\n",
        "def calculate_distance(row):\n",
        "    place_coordinates = (float(row['Lat']), float(row['Long']))\n",
        "    return great_circle(city_center, place_coordinates).km\n",
        "\n",
        "# Adding the 'Distance_from_city_center' column to the DataFrame\n",
        "df_selected['Distance_from_city_center'] = df_selected.apply(calculate_distance, axis=1)\n",
        "\n",
        "# Displaying the first few rows of the updated DataFrame\n",
        "print(df_selected.head())\n"
      ]
    },
    {
      "cell_type": "code",
      "execution_count": 49,
      "metadata": {
        "colab": {
          "base_uri": "https://localhost:8080/"
        },
        "id": "5yNYcf9o5LQb",
        "outputId": "9280fc7d-00aa-4b44-d1ef-326d1354e784"
      },
      "outputs": [
        {
          "name": "stdout",
          "output_type": "stream",
          "text": [
            "                                         Description        City  \\\n",
            "0  pecenongan merupakan salah satu surga kuliner ...     Jakarta   \n",
            "1  freedom library adalah perpustakaan buku yang ...     Jakarta   \n",
            "2  kampung code berada di kelurahan kotabaru, kec...  Yogyakarta   \n",
            "3  pakualaman adalah sebuah kecamatan di kota yog...  Yogyakarta   \n",
            "4  pada bulan juli 1993 berdirilah sebuah masjid ...     Bandung   \n",
            "\n",
            "             Category  Price  Rating       Lat        Long  \\\n",
            "0  Pusat Perbelanjaan    0.0     5.0 -6.166789  106.826526   \n",
            "1              Budaya    0.0     5.0 -6.202248  106.845197   \n",
            "2       Taman Hiburan    0.0     5.0 -7.822909  110.375689   \n",
            "3              Budaya    0.0     5.0 -7.801035  110.375192   \n",
            "4       Tempat Ibadah    0.0     4.9 -6.863527  107.589919   \n",
            "\n",
            "   Distance_from_city_center  \n",
            "0                   0.489640  \n",
            "1                   0.488665  \n",
            "2                   0.317350  \n",
            "3                   0.317188  \n",
            "4                   0.451568  \n"
          ]
        },
        {
          "name": "stderr",
          "output_type": "stream",
          "text": [
            "C:\\Users\\DELL\\AppData\\Local\\Temp\\ipykernel_10116\\2397919692.py:8: SettingWithCopyWarning: \n",
            "A value is trying to be set on a copy of a slice from a DataFrame.\n",
            "Try using .loc[row_indexer,col_indexer] = value instead\n",
            "\n",
            "See the caveats in the documentation: https://pandas.pydata.org/pandas-docs/stable/user_guide/indexing.html#returning-a-view-versus-a-copy\n",
            "  df_selected[['Price', 'Distance_from_city_center']] = scaler.fit_transform(df_selected[['Price', 'Distance_from_city_center']])\n"
          ]
        }
      ],
      "source": [
        "# Features Normalization\n",
        "from sklearn.preprocessing import MinMaxScaler\n",
        "\n",
        "# Initialize the scaler\n",
        "scaler = MinMaxScaler()\n",
        "\n",
        "# Normalize the 'Price' and 'Distance_from_city_center' features\n",
        "df_selected[['Price', 'Distance_from_city_center']] = scaler.fit_transform(df_selected[['Price', 'Distance_from_city_center']])\n",
        "\n",
        "# Displaying the first few rows of the updated DataFrame\n",
        "print(df_selected.head())\n"
      ]
    },
    {
      "cell_type": "markdown",
      "metadata": {
        "id": "EhV55uw06G2x"
      },
      "source": [
        "Normalisasi membantu dalam menangani skala yang berbeda-beda antar fitur, sehingga memastikan bahwa semua fitur berkontribusi sebanding dalam perhitungan kesamaan."
      ]
    },
    {
      "cell_type": "code",
      "execution_count": 50,
      "metadata": {
        "colab": {
          "base_uri": "https://localhost:8080/"
        },
        "id": "6htBOofm6F_W",
        "outputId": "7f952601-68bb-46b7-a9df-7d8f74da90e1"
      },
      "outputs": [
        {
          "name": "stdout",
          "output_type": "stream",
          "text": [
            "[[0.         0.         0.         ... 0.         0.         0.48964004]\n",
            " [0.         0.         0.         ... 0.         0.         0.48866518]]\n"
          ]
        }
      ],
      "source": [
        "# Combining TF-IDF Vectorization results with other features and building a content-based recommendation model.\n",
        "# In this case, we can use the TF-IDF matrix as the numerical representation of the description of tourist attractions,\n",
        "# while the 'Price' and 'Distance_from_city_center' features have been normalized.\n",
        "\n",
        "from scipy.sparse import hstack\n",
        "\n",
        "# Combining the TF-IDF matrix with other features\n",
        "X = hstack([tfidf_matrix, df_selected[['Price', 'Distance_from_city_center']].values])\n",
        "\n",
        "# Convert the matrix to CSR (Compressed Sparse Row) format for indexing\n",
        "X_array = X.tocsr()\n",
        "\n",
        "# Convert the matrix to a dense NumPy array format\n",
        "X_array = X.todense()\n",
        "\n",
        "# Displaying the first few rows of the combined matrix\n",
        "print(X_array[:2])\n"
      ]
    },
    {
      "cell_type": "markdown",
      "metadata": {
        "id": "plNvK-6D6tig"
      },
      "source": [
        "Interpretation:\n",
        "\n",
        "The interpretation of the displayed results is the first two rows of the combined matrix after normalizing and combining the features from the TF-IDF Vectorization matrix, 'Price', and 'Distance_from_city_center'.\n",
        "\n",
        "\n",
        "Each element in the matrix shows the numerical representation value of the combination of these features for each tourist attraction. The two rows represent two different tourist attractions in the dataset.\n",
        "\n",
        "\n",
        "An example of interpreting one element of the matrix:\n",
        "\n",
        "\n",
        "- The element in the first row and the last column (0.51263763): This value represents how similar the first tourist spot is to itself based on the similarity of its features.\n",
        "\n",
        "\n",
        "- Element in the second row and last column (0.51165502): This value represents how similar the second tourist spot is to itself.\n",
        "\n",
        "\n",
        "Keep in mind that these values are the result of calculating the cosine similarity between the vectors representing the tourist attractions in the matrix. The higher the cosine similarity value, the more similar the two tourist attractions are.\n",
        "\n",
        "\n",
        "With this matrix, we can proceed to build a content-based recommendation system. If you have any further questions or want to proceed with the next steps, let me know!"
      ]
    },
    {
      "cell_type": "markdown",
      "metadata": {
        "id": "qKZPmiqI68-3"
      },
      "source": [
        "Next, we can use the calculated cosine similarity matrix to build a content-based recommendation system. In the content-based filtering approach, we can recommend tourist attractions that are similar to places that have been liked by users or that are currently being viewed by users.\n",
        "\n",
        "The following are the steps to perform the recommendation:\n",
        "\n",
        "- Identifying Places to Recommend:\n",
        "\n",
        "- Select one or more tourist attractions that we want to use as a reference for recommendation. In this example, we will use one tourist spot as an example.\n",
        "Get the Index of the Selected Venue:\n",
        "\n",
        "- Finds the index of the selected place in the dataset.\n",
        "Calculate Cosine Similarity:\n",
        "\n",
        "- Uses the cosine similarity matrix to calculate the similarity between the selected place and all other places in the dataset.\n",
        "Sort and Select Recommended Places:\n",
        "\n",
        "- Sort the similarity results and select some places with the highest similarity as recommendations."
      ]
    },
    {
      "cell_type": "markdown",
      "metadata": {
        "id": "iPZzD6DF7yic"
      },
      "source": [
        "# Recommendations System"
      ]
    },
    {
      "cell_type": "code",
      "execution_count": 51,
      "metadata": {
        "colab": {
          "base_uri": "https://localhost:8080/"
        },
        "id": "S-7HrhKy6yA3",
        "outputId": "ba147ae6-7f9d-433a-e47e-8b8990296e6c"
      },
      "outputs": [
        {
          "name": "stdout",
          "output_type": "stream",
          "text": [
            "Recommended places:\n",
            "1. Kawasan Kuliner BSM\n",
            "2. Pelabuhan Marina\n",
            "3. Kampung Koki\n",
            "4. Kampung Nafri\n"
          ]
        }
      ],
      "source": [
        "# Selecting one tourist attraction as an example (replace with the appropriate index)\n",
        "index_selected_place = 0\n",
        "\n",
        "# Calculating cosine similarity between tourist attractions\n",
        "cosine_sim = cosine_similarity(X, X)\n",
        "\n",
        "# Calculating cosine similarity between the selected place and other places\n",
        "similarity_scores = cosine_sim[index_selected_place]\n",
        "\n",
        "# Getting the indices of some places with the highest similarity\n",
        "top_recommendations_indices = similarity_scores.argsort()[-5:-1][::-1]\n",
        "\n",
        "# Displaying the recommended places\n",
        "print(\"Recommended places:\")\n",
        "for i, index in enumerate(top_recommendations_indices, 1):\n",
        "    print(f\"{i}. {df['Place_Name'].iloc[index]}\")\n"
      ]
    },
    {
      "cell_type": "code",
      "execution_count": 52,
      "metadata": {
        "colab": {
          "base_uri": "https://localhost:8080/"
        },
        "id": "3TCOL4le7ZOO",
        "outputId": "9c0e839c-6e45-4c0e-9c42-dfa994ac009a"
      },
      "outputs": [
        {
          "name": "stdout",
          "output_type": "stream",
          "text": [
            "Recommended places:\n",
            "1. Perpustakaan Nasional\n",
            "2. Pantai Tablanusu\n",
            "3. Taman Ekspresi Dan Perpustakaan\n",
            "4. Gua Bintang\n"
          ]
        }
      ],
      "source": [
        "# Choosing one tourist attraction as an example (replace with the appropriate index)\n",
        "index_selected_place = 1\n",
        "\n",
        "# Calculating cosine similarity between tourist attractions\n",
        "cosine_sim = cosine_similarity(X, X)\n",
        "\n",
        "# Calculating cosine similarity between the selected place and other places\n",
        "similarity_scores = cosine_sim[index_selected_place]\n",
        "\n",
        "# Getting the indices of some places with the highest similarity\n",
        "top_recommendations_indices = similarity_scores.argsort()[-5:-1][::-1]\n",
        "\n",
        "# Displaying the recommended places\n",
        "print(\"Recommended places:\")\n",
        "for i, index in enumerate(top_recommendations_indices, 1):\n",
        "    print(f\"{i}. {df['Place_Name'].iloc[index]}\")\n"
      ]
    },
    {
      "cell_type": "code",
      "execution_count": 53,
      "metadata": {
        "colab": {
          "base_uri": "https://localhost:8080/"
        },
        "id": "8lqCptHU7n00",
        "outputId": "2a1fa30e-02f1-4ad3-a093-c7c52b6cb6fd"
      },
      "outputs": [
        {
          "name": "stdout",
          "output_type": "stream",
          "text": [
            "5 Recommended places:\n",
            "1. Wisata Kuliner Pecenongan\n",
            "2. Kawasan Kuliner BSM\n",
            "3. Pelabuhan Marina\n",
            "4. Kampung Koki\n",
            "5. Kampung Nafri\n"
          ]
        }
      ],
      "source": [
        "# Choosing one tourist attraction as an example (replace with the appropriate index)\n",
        "index_selected_place = 0\n",
        "\n",
        "# Calculating cosine similarity between the selected place and other places\n",
        "similarity_scores = cosine_sim[index_selected_place]\n",
        "\n",
        "# Specifying the desired number of recommendations\n",
        "number_recomendation = 5\n",
        "\n",
        "# Getting the indices of places with the highest similarity\n",
        "top_recommendations_indices = similarity_scores.argsort()[-number_recomendation:][::-1]\n",
        "\n",
        "# Displaying the recommended places\n",
        "print(f\"{jumlah_rekomendasi} Recommended places:\")\n",
        "for i, index in enumerate(top_recommendations_indices, 1):\n",
        "    print(f\"{i}. {df['Place_Name'].iloc[index]}\")\n"
      ]
    }
  ],
  "metadata": {
    "colab": {
      "provenance": []
    },
    "kernelspec": {
      "display_name": "Python 3",
      "name": "python3"
    },
    "language_info": {
      "codemirror_mode": {
        "name": "ipython",
        "version": 3
      },
      "file_extension": ".py",
      "mimetype": "text/x-python",
      "name": "python",
      "nbconvert_exporter": "python",
      "pygments_lexer": "ipython3",
      "version": "3.11.5"
    }
  },
  "nbformat": 4,
  "nbformat_minor": 0
}
